{
 "metadata": {
  "language_info": {
   "codemirror_mode": {
    "name": "ipython",
    "version": 3
   },
   "file_extension": ".py",
   "mimetype": "text/x-python",
   "name": "python",
   "nbconvert_exporter": "python",
   "pygments_lexer": "ipython3",
   "version": "3.7.7-final"
  },
  "orig_nbformat": 2,
  "kernelspec": {
   "name": "tf_training",
   "display_name": "tf_training"
  }
 },
 "nbformat": 4,
 "nbformat_minor": 2,
 "cells": [
  {
   "cell_type": "code",
   "execution_count": 4,
   "metadata": {},
   "outputs": [],
   "source": [
    "# import necessary modules\n",
    "import numpy as np\n",
    "import pandas as pd\n",
    "from sklearn.linear_model import LinearRegression"
   ]
  },
  {
   "cell_type": "code",
   "execution_count": 5,
   "metadata": {
    "tags": []
   },
   "outputs": [
    {
     "output_type": "execute_result",
     "data": {
      "text/plain": "   rat    cohort     t_min          atp      ec      pi        total  atp2pi  \\\n0   20  Perfused   38.8500  166291.4799  0.6220  2.9609  994067.4225  1.0000   \n1   20  Perfused   89.4167  125845.1754  0.6577  1.6674  796745.1180  1.3439   \n2   20  Perfused  107.7833  117877.2938  0.6413  1.5809  739123.2669  1.3277   \n3   20  Perfused  125.0500   96209.7996  0.5828  1.5373  741741.0662  1.1143   \n4   20  Perfused  142.5333  103029.6433  0.6083  1.3840  780196.8626  1.3255   \n\n   atp2total  \n0     1.0000  \n1     0.9442  \n2     0.9534  \n3     0.7754  \n4     0.7894  ",
      "text/html": "<div>\n<style scoped>\n    .dataframe tbody tr th:only-of-type {\n        vertical-align: middle;\n    }\n\n    .dataframe tbody tr th {\n        vertical-align: top;\n    }\n\n    .dataframe thead th {\n        text-align: right;\n    }\n</style>\n<table border=\"1\" class=\"dataframe\">\n  <thead>\n    <tr style=\"text-align: right;\">\n      <th></th>\n      <th>rat</th>\n      <th>cohort</th>\n      <th>t_min</th>\n      <th>atp</th>\n      <th>ec</th>\n      <th>pi</th>\n      <th>total</th>\n      <th>atp2pi</th>\n      <th>atp2total</th>\n    </tr>\n  </thead>\n  <tbody>\n    <tr>\n      <th>0</th>\n      <td>20</td>\n      <td>Perfused</td>\n      <td>38.8500</td>\n      <td>166291.4799</td>\n      <td>0.6220</td>\n      <td>2.9609</td>\n      <td>994067.4225</td>\n      <td>1.0000</td>\n      <td>1.0000</td>\n    </tr>\n    <tr>\n      <th>1</th>\n      <td>20</td>\n      <td>Perfused</td>\n      <td>89.4167</td>\n      <td>125845.1754</td>\n      <td>0.6577</td>\n      <td>1.6674</td>\n      <td>796745.1180</td>\n      <td>1.3439</td>\n      <td>0.9442</td>\n    </tr>\n    <tr>\n      <th>2</th>\n      <td>20</td>\n      <td>Perfused</td>\n      <td>107.7833</td>\n      <td>117877.2938</td>\n      <td>0.6413</td>\n      <td>1.5809</td>\n      <td>739123.2669</td>\n      <td>1.3277</td>\n      <td>0.9534</td>\n    </tr>\n    <tr>\n      <th>3</th>\n      <td>20</td>\n      <td>Perfused</td>\n      <td>125.0500</td>\n      <td>96209.7996</td>\n      <td>0.5828</td>\n      <td>1.5373</td>\n      <td>741741.0662</td>\n      <td>1.1143</td>\n      <td>0.7754</td>\n    </tr>\n    <tr>\n      <th>4</th>\n      <td>20</td>\n      <td>Perfused</td>\n      <td>142.5333</td>\n      <td>103029.6433</td>\n      <td>0.6083</td>\n      <td>1.3840</td>\n      <td>780196.8626</td>\n      <td>1.3255</td>\n      <td>0.7894</td>\n    </tr>\n  </tbody>\n</table>\n</div>"
     },
     "metadata": {},
     "execution_count": 5
    }
   ],
   "source": [
    "# read file\n",
    "path = '/Users/mehipour/Desktop/data/'\n",
    "file_path = path + 'R_lung_data_28-Aug-2020.csv'\n",
    "df = pd.read_csv(file_path)\n",
    "\n",
    "# remove space from column names and values\n",
    "df.columns = df.columns.str.lstrip()\n",
    "df['cohort'] = df['cohort'].str.lstrip()\n",
    "\n",
    "# reivew data\n",
    "df.head()\n"
   ]
  },
  {
   "cell_type": "code",
   "execution_count": 15,
   "metadata": {
    "tags": []
   },
   "outputs": [
    {
     "output_type": "stream",
     "name": "stdout",
     "text": "{'Perfused': {20: {'w1': 1.1037761068151999}, 21: {'w1': 1.0349145370745751}, 22: {'w1': 1.0021726211037898}, 32: {'w1': 1.0017984965164821}, 44: {'w1': 1.1501466506540907}, 35: {'w1': 1.0247638102417833}, 36: {'w1': 1.0002107051440046}, 37: {'w1': 1.0568388938943662}}, 'Cold': {23: {'w1': 1.0548695081385862}, 24: {'w1': 1.1981881559862555}, 25: {'w1': 1.0475104748037232}, 38: {'w1': 1.0458945159442004}, 39: {'w1': 0.9915216756902563}, 40: {'w1': 1.0415641197938774}}}\n"
    }
   ],
   "source": [
    "# apply linear regression for each rat\n",
    "lm = LinearRegression()\n",
    "\n",
    "# loop through cohorts and rats\n",
    "data = {}\n",
    "for cohort in df['cohort'].unique():\n",
    "    df_cohort = df[df['cohort']==cohort]\n",
    "    coef = {}\n",
    "\n",
    "    for rat in df_cohort['rat'].unique():\n",
    "        df_rat = df_cohort[df_cohort['rat'] == rat]\n",
    "        t = df_rat['t_min'].values.reshape(-1,1)\n",
    "        y = df_rat['atp2total'].values.reshape(-1,1)\n",
    "        lm.fit(t,y)\n",
    "        coef[rat] = {'w1':lm.coef_[0][0], 'w1':lm.intercept_[0]}\n",
    "    data[cohort] = coef\n",
    "print(data)"
   ]
  },
  {
   "cell_type": "code",
   "execution_count": null,
   "metadata": {},
   "outputs": [],
   "source": []
  }
 ]
}