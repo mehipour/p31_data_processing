{
 "metadata": {
  "language_info": {
   "codemirror_mode": {
    "name": "ipython",
    "version": 3
   },
   "file_extension": ".py",
   "mimetype": "text/x-python",
   "name": "python",
   "nbconvert_exporter": "python",
   "pygments_lexer": "ipython3",
   "version": "3.7.4-final"
  },
  "orig_nbformat": 2,
  "kernelspec": {
   "name": "python_defaultSpec_1598629580463",
   "display_name": "Python 3.7.4 64-bit ('anaconda3': virtualenv)"
  }
 },
 "nbformat": 4,
 "nbformat_minor": 2,
 "cells": [
  {
   "cell_type": "code",
   "execution_count": 6,
   "metadata": {},
   "outputs": [],
   "source": [
    "# import necessary modules\n",
    "import numpy as np\n",
    "import pandas as pd\n",
    "from sklearn.linear_model import LinearRegression"
   ]
  },
  {
   "cell_type": "code",
   "execution_count": 50,
   "metadata": {
    "tags": []
   },
   "outputs": [
    {
     "output_type": "execute_result",
     "data": {
      "text/plain": "   rat    cohort     t_min          atp      ec      pi        total  atp2pi  \\\n0   20  Perfused   38.8500  166291.4799  0.6220  2.9609  994067.4225  1.0000   \n1   20  Perfused   89.4167  125845.1754  0.6577  1.6674  796745.1180  1.3439   \n2   20  Perfused  107.7833  117877.2938  0.6413  1.5809  739123.2669  1.3277   \n3   20  Perfused  125.0500   96209.7996  0.5828  1.5373  741741.0662  1.1143   \n4   20  Perfused  142.5333  103029.6433  0.6083  1.3840  780196.8626  1.3255   \n\n   atp2total  \n0     1.0000  \n1     0.9442  \n2     0.9534  \n3     0.7754  \n4     0.7894  ",
      "text/html": "<div>\n<style scoped>\n    .dataframe tbody tr th:only-of-type {\n        vertical-align: middle;\n    }\n\n    .dataframe tbody tr th {\n        vertical-align: top;\n    }\n\n    .dataframe thead th {\n        text-align: right;\n    }\n</style>\n<table border=\"1\" class=\"dataframe\">\n  <thead>\n    <tr style=\"text-align: right;\">\n      <th></th>\n      <th>rat</th>\n      <th>cohort</th>\n      <th>t_min</th>\n      <th>atp</th>\n      <th>ec</th>\n      <th>pi</th>\n      <th>total</th>\n      <th>atp2pi</th>\n      <th>atp2total</th>\n    </tr>\n  </thead>\n  <tbody>\n    <tr>\n      <td>0</td>\n      <td>20</td>\n      <td>Perfused</td>\n      <td>38.8500</td>\n      <td>166291.4799</td>\n      <td>0.6220</td>\n      <td>2.9609</td>\n      <td>994067.4225</td>\n      <td>1.0000</td>\n      <td>1.0000</td>\n    </tr>\n    <tr>\n      <td>1</td>\n      <td>20</td>\n      <td>Perfused</td>\n      <td>89.4167</td>\n      <td>125845.1754</td>\n      <td>0.6577</td>\n      <td>1.6674</td>\n      <td>796745.1180</td>\n      <td>1.3439</td>\n      <td>0.9442</td>\n    </tr>\n    <tr>\n      <td>2</td>\n      <td>20</td>\n      <td>Perfused</td>\n      <td>107.7833</td>\n      <td>117877.2938</td>\n      <td>0.6413</td>\n      <td>1.5809</td>\n      <td>739123.2669</td>\n      <td>1.3277</td>\n      <td>0.9534</td>\n    </tr>\n    <tr>\n      <td>3</td>\n      <td>20</td>\n      <td>Perfused</td>\n      <td>125.0500</td>\n      <td>96209.7996</td>\n      <td>0.5828</td>\n      <td>1.5373</td>\n      <td>741741.0662</td>\n      <td>1.1143</td>\n      <td>0.7754</td>\n    </tr>\n    <tr>\n      <td>4</td>\n      <td>20</td>\n      <td>Perfused</td>\n      <td>142.5333</td>\n      <td>103029.6433</td>\n      <td>0.6083</td>\n      <td>1.3840</td>\n      <td>780196.8626</td>\n      <td>1.3255</td>\n      <td>0.7894</td>\n    </tr>\n  </tbody>\n</table>\n</div>"
     },
     "metadata": {},
     "execution_count": 50
    }
   ],
   "source": [
    "# read file\n",
    "path = '/Users/mehipour/Desktop/data/'\n",
    "file_path = path + 'R_lung_data_28-Aug-2020.csv'\n",
    "df = pd.read_csv(file_path)\n",
    "\n",
    "# remove space from column names and values\n",
    "df.columns = df.columns.str.lstrip()\n",
    "df['cohort'] = df['cohort'].str.lstrip()\n",
    "\n",
    "# reivew data\n",
    "df.head()\n"
   ]
  },
  {
   "cell_type": "code",
   "execution_count": 66,
   "metadata": {
    "tags": []
   },
   "outputs": [
    {
     "output_type": "error",
     "ename": "NameError",
     "evalue": "name 'coef' is not defined",
     "traceback": [
      "\u001b[0;31m---------------------------------------------------------------------------\u001b[0m",
      "\u001b[0;31mNameError\u001b[0m                                 Traceback (most recent call last)",
      "\u001b[0;32m<ipython-input-66-35a5e8294af3>\u001b[0m in \u001b[0;36m<module>\u001b[0;34m\u001b[0m\n\u001b[1;32m     13\u001b[0m         \u001b[0my\u001b[0m \u001b[0;34m=\u001b[0m \u001b[0mdf_rat\u001b[0m\u001b[0;34m[\u001b[0m\u001b[0;34m'atp2total'\u001b[0m\u001b[0;34m]\u001b[0m\u001b[0;34m.\u001b[0m\u001b[0mvalues\u001b[0m\u001b[0;34m.\u001b[0m\u001b[0mreshape\u001b[0m\u001b[0;34m(\u001b[0m\u001b[0;34m-\u001b[0m\u001b[0;36m1\u001b[0m\u001b[0;34m,\u001b[0m\u001b[0;36m1\u001b[0m\u001b[0;34m)\u001b[0m\u001b[0;34m\u001b[0m\u001b[0;34m\u001b[0m\u001b[0m\n\u001b[1;32m     14\u001b[0m         \u001b[0mlm\u001b[0m\u001b[0;34m.\u001b[0m\u001b[0mfit\u001b[0m\u001b[0;34m(\u001b[0m\u001b[0mt\u001b[0m\u001b[0;34m,\u001b[0m\u001b[0my\u001b[0m\u001b[0;34m)\u001b[0m\u001b[0;34m\u001b[0m\u001b[0;34m\u001b[0m\u001b[0m\n\u001b[0;32m---> 15\u001b[0;31m         \u001b[0mcoef\u001b[0m\u001b[0;34m[\u001b[0m\u001b[0mrat\u001b[0m\u001b[0;34m]\u001b[0m \u001b[0;34m=\u001b[0m \u001b[0;34m[\u001b[0m\u001b[0mlm\u001b[0m\u001b[0;34m.\u001b[0m\u001b[0mcoef_\u001b[0m\u001b[0;34m,\u001b[0m \u001b[0mlm\u001b[0m\u001b[0;34m.\u001b[0m\u001b[0mintercept_\u001b[0m\u001b[0;34m]\u001b[0m\u001b[0;34m\u001b[0m\u001b[0;34m\u001b[0m\u001b[0m\n\u001b[0m\u001b[1;32m     16\u001b[0m         \u001b[0mintercepts\u001b[0m\u001b[0;34m\u001b[0m\u001b[0;34m\u001b[0m\u001b[0m\n\u001b[1;32m     17\u001b[0m     \u001b[0mdata\u001b[0m\u001b[0;34m[\u001b[0m\u001b[0mcohort\u001b[0m\u001b[0;34m]\u001b[0m \u001b[0;34m=\u001b[0m \u001b[0mslopes\u001b[0m\u001b[0;34m\u001b[0m\u001b[0;34m\u001b[0m\u001b[0m\n",
      "\u001b[0;31mNameError\u001b[0m: name 'coef' is not defined"
     ]
    }
   ],
   "source": [
    "# apply linear regression for each rat\n",
    "lm = LinearRegression()\n",
    "\n",
    "# loop through cohorts and rats\n",
    "data = {}\n",
    "for cohort in df['cohort'].unique():\n",
    "    df_cohort = df[df['cohort']==cohort]\n",
    "    slopes = {}\n",
    "\n",
    "    for rat in df_cohort['rat'].unique():\n",
    "        df_rat = df_cohort[df_cohort['rat'] == rat]\n",
    "        t = df_rat['t_min'].values.reshape(-1,1)\n",
    "        y = df_rat['atp2total'].values.reshape(-1,1)\n",
    "        lm.fit(t,y)\n",
    "        coef[rat] = [lm.coef_, lm.intercept_]\n",
    "        intercepts\n",
    "    data[cohort] = slopes\n",
    "print(data)"
   ]
  },
  {
   "cell_type": "code",
   "execution_count": null,
   "metadata": {},
   "outputs": [],
   "source": []
  }
 ]
}